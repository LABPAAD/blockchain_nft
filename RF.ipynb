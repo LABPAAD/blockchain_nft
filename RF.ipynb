{
 "cells": [
  {
   "cell_type": "code",
   "execution_count": null,
   "metadata": {
    "colab": {
     "base_uri": "https://localhost:8080/"
    },
    "id": "VZW_upFqKxfU",
    "outputId": "ac7ef8cc-ea5b-4785-cf71-8aeed6342407"
   },
   "outputs": [
    {
     "name": "stdout",
     "output_type": "stream",
     "text": [
      "Mounted at /content/drive/\n"
     ]
    }
   ],
   "source": [
    "# from google.colab import drive\n",
    "# drive.mount ('/content/drive/')"
   ]
  },
  {
   "cell_type": "code",
   "execution_count": null,
   "metadata": {
    "id": "CU4YWKD6LcnI"
   },
   "outputs": [],
   "source": [
    "import plotly.express as px\n",
    "import pandas as pd\n",
    "import numpy as np\n",
    "\n",
    "import matplotlib.pyplot as plt\n",
    "import seaborn as sns\n",
    "\n",
    "from sklearn.model_selection import train_test_split, cross_val_predict, GridSearchCV\n",
    "from sklearn.ensemble import RandomForestClassifier\n",
    "from sklearn.metrics import accuracy_score, precision_score, recall_score, f1_score\n",
    "from sklearn.metrics import confusion_matrix, ConfusionMatrixDisplay\n",
    "from sklearn.metrics import classification_report\n",
    "\n",
    "# from sklearn.linear_model import LogisticRegression\n",
    "from sklearn.preprocessing import StandardScaler\n",
    "from sklearn.preprocessing import MinMaxScaler\n",
    "from imblearn.over_sampling import SMOTE\n",
    "from imblearn.under_sampling import EditedNearestNeighbours as ENN"
   ]
  },
  {
   "cell_type": "markdown",
   "metadata": {
    "id": "Vk2J5JkrMK1y"
   },
   "source": [
    "## SMOTE (Técnica de Oversampling Minoritário Sintético)\n",
    "## 🧮 Classificação Ternário com Filtro\n",
    " - Oversampling\n",
    "  - Seu objetivo é equilibrar a distribuição de classes, aumentando aleatoriamente os exemplos de classes minoritárias, replicando-os.\n"
   ]
  },
  {
   "cell_type": "code",
   "execution_count": null,
   "metadata": {
    "id": "rlGJVm-PLcqr"
   },
   "outputs": [],
   "source": [
    "df_path = '/dataset/nft_collections.csv' # este dataframe está com o filtro aplicado\n",
    "df = pd.read_csv(df_path)"
   ]
  },
  {
   "cell_type": "code",
   "execution_count": null,
   "metadata": {
    "colab": {
     "base_uri": "https://localhost:8080/"
    },
    "id": "4DSvCUrLLctq",
    "outputId": "a9e4b1fc-90bc-4997-c905-216792727324"
   },
   "outputs": [
    {
     "data": {
      "text/plain": [
       "(427788, 12)"
      ]
     },
     "execution_count": 18,
     "metadata": {},
     "output_type": "execute_result"
    }
   ],
   "source": [
    "# df['floor_price'].fillna(0, inplace=True)\n",
    "# df = df.drop(['name_json','slug', 'count'], axis = 1)\n",
    "# df['target'] = df['category'].apply(lambda x: 1 if x == 'art' else 0 if x == 'pfps' else 2)\n",
    "# df.shape"
   ]
  },
  {
   "cell_type": "markdown",
   "metadata": {
    "id": "fgXm0w6VNbwv"
   },
   "source": [
    "#### 🔎 Aplicando Filtro\n",
    "- Filtro -> (total_suply > 0) e (total_sales > 0)"
   ]
  },
  {
   "cell_type": "code",
   "execution_count": null,
   "metadata": {
    "colab": {
     "base_uri": "https://localhost:8080/"
    },
    "id": "-R-ZJf3yLcwR",
    "outputId": "d9c2f33a-52c9-4266-ba0a-3da9eb8c35bb"
   },
   "outputs": [
    {
     "data": {
      "text/plain": [
       "(40815, 12)"
      ]
     },
     "execution_count": 19,
     "metadata": {},
     "output_type": "execute_result"
    }
   ],
   "source": [
    "# mask = (df['total_supply'] > 0) & (df['total_sales'] > 0)\n",
    "\n",
    "# # Aplicando a máscara para filtrar o DataFrame\n",
    "# df = df[mask]\n",
    "# df.shape"
   ]
  },
  {
   "cell_type": "code",
   "execution_count": null,
   "metadata": {
    "colab": {
     "base_uri": "https://localhost:8080/"
    },
    "id": "R6YL7cSdLcyw",
    "outputId": "dc362829-d720-412d-8745-da903567f849"
   },
   "outputs": [
    {
     "data": {
      "text/plain": [
       "1    19071\n",
       "0    13831\n",
       "2     7913\n",
       "Name: target, dtype: int64"
      ]
     },
     "execution_count": 20,
     "metadata": {},
     "output_type": "execute_result"
    }
   ],
   "source": [
    "# df['target'].value_counts()"
   ]
  },
  {
   "cell_type": "markdown",
   "metadata": {
    "id": "cqTi3VeWMsFQ"
   },
   "source": [
    "### 🧮 Usar metodologia de treino e teste (75% - 25%)"
   ]
  },
  {
   "cell_type": "code",
   "execution_count": null,
   "metadata": {
    "id": "bJP7sxK6Lc1a"
   },
   "outputs": [],
   "source": [
    "y = df['target'] # ----> caracteristicas (1 = art / 0 = pfps / 2 = others)\n",
    "X = df.drop(['target', 'category'],axis = 1)"
   ]
  },
  {
   "cell_type": "code",
   "execution_count": null,
   "metadata": {
    "colab": {
     "base_uri": "https://localhost:8080/"
    },
    "id": "90ti3DkILc3_",
    "outputId": "53d43267-d587-4b87-d594-516cd891bc57"
   },
   "outputs": [
    {
     "name": "stdout",
     "output_type": "stream",
     "text": [
      "X_train dataset:  (30611, 10)\n",
      "y_train dataset:  (30611,)\n",
      "X_test dataset:  (10204, 10)\n",
      "y_test dataset:  (10204,)\n"
     ]
    }
   ],
   "source": [
    "X_train, X_test, y_train, y_test = train_test_split(X, y, train_size=0.75, random_state=42)\n",
    "\n",
    "print(\"X_train dataset: \", X_train.shape)\n",
    "print(\"y_train dataset: \", y_train.shape)\n",
    "print(\"X_test dataset: \", X_test.shape)\n",
    "print(\"y_test dataset: \", y_test.shape)"
   ]
  },
  {
   "cell_type": "code",
   "execution_count": null,
   "metadata": {
    "colab": {
     "base_uri": "https://localhost:8080/"
    },
    "id": "x_ssV6PZLc6R",
    "outputId": "920ed947-4500-4ac7-aceb-62faf930cc51"
   },
   "outputs": [
    {
     "name": "stdout",
     "output_type": "stream",
     "text": [
      "After OverSampling, the shape of train_X: (42696, 10)\n",
      "After OverSampling, the shape of train_y: (42696,) \n",
      "\n",
      "After OverSampling, counts of label '1' art: 14232\n",
      "After OverSampling, counts of label '0' pfps: 14232\n",
      "After OverSampling, counts of label '2' others: 14232\n"
     ]
    }
   ],
   "source": [
    "sm = SMOTE(random_state = 2)\n",
    "X_train_res, y_train_res = sm.fit_resample(X_train, y_train.ravel())\n",
    "\n",
    "print('After OverSampling, the shape of train_X: {}'.format(X_train_res.shape))\n",
    "print('After OverSampling, the shape of train_y: {} \\n'.format(y_train_res.shape))\n",
    "\n",
    "print(\"After OverSampling, counts of label '1' art: {}\".format(sum(y_train_res == 1)))\n",
    "print(\"After OverSampling, counts of label '0' pfps: {}\".format(sum(y_train_res == 0)))\n",
    "print(\"After OverSampling, counts of label '2' others: {}\".format(sum(y_train_res == 2)))"
   ]
  },
  {
   "cell_type": "markdown",
   "metadata": {
    "id": "Jci6CJVNPU0s"
   },
   "source": [
    "### 🧮 Random Forest - Classificação Ternária ( 'art' x 'no art' x others ) com Oversampling (SMOTE)"
   ]
  },
  {
   "cell_type": "code",
   "execution_count": null,
   "metadata": {
    "colab": {
     "base_uri": "https://localhost:8080/",
     "height": 92
    },
    "id": "gB0a_OppLc9B",
    "outputId": "5bcaec99-2463-4abe-a4b9-79f0383c2a09"
   },
   "outputs": [
    {
     "data": {
      "text/html": [
       "<style>#sk-container-id-1 {color: black;background-color: white;}#sk-container-id-1 pre{padding: 0;}#sk-container-id-1 div.sk-toggleable {background-color: white;}#sk-container-id-1 label.sk-toggleable__label {cursor: pointer;display: block;width: 100%;margin-bottom: 0;padding: 0.3em;box-sizing: border-box;text-align: center;}#sk-container-id-1 label.sk-toggleable__label-arrow:before {content: \"▸\";float: left;margin-right: 0.25em;color: #696969;}#sk-container-id-1 label.sk-toggleable__label-arrow:hover:before {color: black;}#sk-container-id-1 div.sk-estimator:hover label.sk-toggleable__label-arrow:before {color: black;}#sk-container-id-1 div.sk-toggleable__content {max-height: 0;max-width: 0;overflow: hidden;text-align: left;background-color: #f0f8ff;}#sk-container-id-1 div.sk-toggleable__content pre {margin: 0.2em;color: black;border-radius: 0.25em;background-color: #f0f8ff;}#sk-container-id-1 input.sk-toggleable__control:checked~div.sk-toggleable__content {max-height: 200px;max-width: 100%;overflow: auto;}#sk-container-id-1 input.sk-toggleable__control:checked~label.sk-toggleable__label-arrow:before {content: \"▾\";}#sk-container-id-1 div.sk-estimator input.sk-toggleable__control:checked~label.sk-toggleable__label {background-color: #d4ebff;}#sk-container-id-1 div.sk-label input.sk-toggleable__control:checked~label.sk-toggleable__label {background-color: #d4ebff;}#sk-container-id-1 input.sk-hidden--visually {border: 0;clip: rect(1px 1px 1px 1px);clip: rect(1px, 1px, 1px, 1px);height: 1px;margin: -1px;overflow: hidden;padding: 0;position: absolute;width: 1px;}#sk-container-id-1 div.sk-estimator {font-family: monospace;background-color: #f0f8ff;border: 1px dotted black;border-radius: 0.25em;box-sizing: border-box;margin-bottom: 0.5em;}#sk-container-id-1 div.sk-estimator:hover {background-color: #d4ebff;}#sk-container-id-1 div.sk-parallel-item::after {content: \"\";width: 100%;border-bottom: 1px solid gray;flex-grow: 1;}#sk-container-id-1 div.sk-label:hover label.sk-toggleable__label {background-color: #d4ebff;}#sk-container-id-1 div.sk-serial::before {content: \"\";position: absolute;border-left: 1px solid gray;box-sizing: border-box;top: 0;bottom: 0;left: 50%;z-index: 0;}#sk-container-id-1 div.sk-serial {display: flex;flex-direction: column;align-items: center;background-color: white;padding-right: 0.2em;padding-left: 0.2em;position: relative;}#sk-container-id-1 div.sk-item {position: relative;z-index: 1;}#sk-container-id-1 div.sk-parallel {display: flex;align-items: stretch;justify-content: center;background-color: white;position: relative;}#sk-container-id-1 div.sk-item::before, #sk-container-id-1 div.sk-parallel-item::before {content: \"\";position: absolute;border-left: 1px solid gray;box-sizing: border-box;top: 0;bottom: 0;left: 50%;z-index: -1;}#sk-container-id-1 div.sk-parallel-item {display: flex;flex-direction: column;z-index: 1;position: relative;background-color: white;}#sk-container-id-1 div.sk-parallel-item:first-child::after {align-self: flex-end;width: 50%;}#sk-container-id-1 div.sk-parallel-item:last-child::after {align-self: flex-start;width: 50%;}#sk-container-id-1 div.sk-parallel-item:only-child::after {width: 0;}#sk-container-id-1 div.sk-dashed-wrapped {border: 1px dashed gray;margin: 0 0.4em 0.5em 0.4em;box-sizing: border-box;padding-bottom: 0.4em;background-color: white;}#sk-container-id-1 div.sk-label label {font-family: monospace;font-weight: bold;display: inline-block;line-height: 1.2em;}#sk-container-id-1 div.sk-label-container {text-align: center;}#sk-container-id-1 div.sk-container {/* jupyter's `normalize.less` sets `[hidden] { display: none; }` but bootstrap.min.css set `[hidden] { display: none !important; }` so we also need the `!important` here to be able to override the default hidden behavior on the sphinx rendered scikit-learn.org. See: https://github.com/scikit-learn/scikit-learn/issues/21755 */display: inline-block !important;position: relative;}#sk-container-id-1 div.sk-text-repr-fallback {display: none;}</style><div id=\"sk-container-id-1\" class=\"sk-top-container\"><div class=\"sk-text-repr-fallback\"><pre>RandomForestClassifier(min_samples_leaf=15, min_samples_split=20,\n",
       "                       n_estimators=1000)</pre><b>In a Jupyter environment, please rerun this cell to show the HTML representation or trust the notebook. <br />On GitHub, the HTML representation is unable to render, please try loading this page with nbviewer.org.</b></div><div class=\"sk-container\" hidden><div class=\"sk-item\"><div class=\"sk-estimator sk-toggleable\"><input class=\"sk-toggleable__control sk-hidden--visually\" id=\"sk-estimator-id-1\" type=\"checkbox\" checked><label for=\"sk-estimator-id-1\" class=\"sk-toggleable__label sk-toggleable__label-arrow\">RandomForestClassifier</label><div class=\"sk-toggleable__content\"><pre>RandomForestClassifier(min_samples_leaf=15, min_samples_split=20,\n",
       "                       n_estimators=1000)</pre></div></div></div></div></div>"
      ],
      "text/plain": [
       "RandomForestClassifier(min_samples_leaf=15, min_samples_split=20,\n",
       "                       n_estimators=1000)"
      ]
     },
     "execution_count": 26,
     "metadata": {},
     "output_type": "execute_result"
    }
   ],
   "source": [
    "model = RandomForestClassifier(n_estimators=1000, min_samples_split=20, min_samples_leaf=15)\n",
    "model.fit(X_train_res, y_train_res)"
   ]
  },
  {
   "cell_type": "code",
   "execution_count": null,
   "metadata": {
    "colab": {
     "base_uri": "https://localhost:8080/"
    },
    "id": "jc2O81vyLdAY",
    "outputId": "e6527ee5-6824-4804-cb8d-4e2230dcad0d"
   },
   "outputs": [
    {
     "name": "stdout",
     "output_type": "stream",
     "text": [
      "Acurácia: 0.5737945903567229\n",
      "Precisão: 0.5832778249655826\n",
      "Revocação: 0.5737945903567229\n",
      "F1-Score: 0.5778659319707797\n"
     ]
    }
   ],
   "source": [
    "# Fazer previsões no conjunto de teste usando o melhor modelo\n",
    "y_pred = model.predict(X_test)\n",
    "\n",
    "# Calcular métricas de avaliação\n",
    "acuracia = accuracy_score(y_test, y_pred)\n",
    "precisao = precision_score(y_test, y_pred, average='weighted')  # Precisão ponderada por classe\n",
    "revocacao = recall_score(y_test, y_pred, average='weighted')  # Revocação ponderada por classe\n",
    "f1 = f1_score(y_test, y_pred, average='weighted')  # F1-Score ponderado por classe\n",
    "\n",
    "# Exibir as métricas de avaliação\n",
    "print(\"Acurácia:\", acuracia)\n",
    "print(\"Precisão:\", precisao)\n",
    "print(\"Revocação:\", revocacao)\n",
    "print(\"F1-Score:\", f1)"
   ]
  },
  {
   "cell_type": "code",
   "execution_count": null,
   "metadata": {
    "colab": {
     "base_uri": "https://localhost:8080/"
    },
    "id": "KDIFPHvEPyPl",
    "outputId": "bc48e648-11e6-474d-94fc-f00ef2efa6ce"
   },
   "outputs": [
    {
     "name": "stdout",
     "output_type": "stream",
     "text": [
      "              precision    recall  f1-score   support\n",
      "\n",
      "           0       0.64      0.61      0.62      3387\n",
      "           1       0.64      0.62      0.63      4839\n",
      "           2       0.35      0.41      0.38      1978\n",
      "\n",
      "    accuracy                           0.57     10204\n",
      "   macro avg       0.54      0.54      0.54     10204\n",
      "weighted avg       0.58      0.57      0.58     10204\n",
      "\n"
     ]
    }
   ],
   "source": [
    "report = classification_report(y_test, y_pred)\n",
    "\n",
    "# Exibir o relatório de classificação\n",
    "print(report)"
   ]
  },
  {
   "cell_type": "markdown",
   "metadata": {
    "id": "UZWZfveQP9D-"
   },
   "source": [
    "### 🧮 Matriz de confusão - Random Forest Classificação Ternária ( 'art' x 'no art' x 'others' )\n",
    " - Oversampling (SMOTE)"
   ]
  },
  {
   "cell_type": "code",
   "execution_count": null,
   "metadata": {
    "colab": {
     "base_uri": "https://localhost:8080/",
     "height": 807
    },
    "id": "2nmLsB2ZPySc",
    "outputId": "3bd953d2-8d96-456d-da53-70fc338d3758"
   },
   "outputs": [
    {
     "data": {
      "image/png": "[encoded data removed]",
      "text/plain": [
       "<Figure size 1000x1000 with 2 Axes>"
      ]
     },
     "metadata": {},
     "output_type": "display_data"
    }
   ],
   "source": [
    "plt.rcParams['figure.figsize'] = (10, 10)\n",
    "plt.style.use('ggplot')\n",
    "\n",
    "disp = ConfusionMatrixDisplay(confusion_matrix=confusion_matrix(y_test, y_pred), display_labels=np.unique(y_test))\n",
    "cmap = 'PuBu'\n",
    "\n",
    "disp.plot(cmap=cmap)\n",
    "plt.title(\"RF Classificação Ternária '1 art' x '0 no art'x '2 others' \")\n",
    "plt.grid(False)\n",
    "plt.show()"
   ]
  },
  {
   "cell_type": "markdown",
   "metadata": {
    "id": "ELXPv_fiR8Bw"
   },
   "source": [
    "### 🧮 Importância dos atributos - Random Forest Classificação Ternária (Art vs No Art vs Others)\n",
    "- Oversampling (SMOTE)\n",
    "- Com filtro"
   ]
  },
  {
   "cell_type": "code",
   "execution_count": null,
   "metadata": {
    "colab": {
     "base_uri": "https://localhost:8080/"
    },
    "id": "UawWZIq9PyVA",
    "outputId": "8a3a41d3-1b71-4da4-a88e-4e89e0c5b3b3"
   },
   "outputs": [
    {
     "name": "stdout",
     "output_type": "stream",
     "text": [
      "         Feature  Importância\n",
      "2   total_supply     0.228168\n",
      "8     qtd_traits     0.170794\n",
      "1    total_sales     0.130430\n",
      "4  average_price     0.115411\n",
      "3     num_owners     0.113373\n",
      "0   total_volume     0.103570\n",
      "7    floor_price     0.091963\n",
      "6     market_cap     0.030738\n",
      "9    qtd_editors     0.008446\n",
      "5    num_reports     0.007106\n"
     ]
    }
   ],
   "source": [
    "# Obtenha a importância das features\n",
    "importancia_features = model.feature_importances_\n",
    "\n",
    "# Crie um DataFrame com as importâncias das features\n",
    "df_importancia = pd.DataFrame({'Feature': X.columns, 'Importância': importancia_features})\n",
    "\n",
    "# Ordene o DataFrame pela importância das features em ordem decrescente\n",
    "df_importancia = df_importancia.sort_values(by='Importância', ascending=False)\n",
    "\n",
    "# Exiba o DataFrame resultante\n",
    "print(df_importancia)"
   ]
  },
  {
   "cell_type": "markdown",
   "metadata": {
    "id": "kFdLFsJaSWZI"
   },
   "source": [
    "## 🧮 Testando ENN - Classificação Ternária Undersampling com filtro\n",
    " - ENN (Edited Nearest Neighbours)\n",
    "  - Enquanto o oversampling aumenta a quantidade de exemplos da classe minoritária, o undersampling faz o contrário: ele diminui a quantidade de exemplos da classe majoritária. Um dos métodos mais utilizados é chamado de ENN (Edited Nearest Neighbours)"
   ]
  },
  {
   "cell_type": "code",
   "execution_count": null,
   "metadata": {
    "colab": {
     "base_uri": "https://localhost:8080/"
    },
    "id": "MByvjueLPyX0",
    "outputId": "090ef808-e848-4ae3-caa1-c12d7b55f587"
   },
   "outputs": [
    {
     "name": "stdout",
     "output_type": "stream",
     "text": [
      "shape: (40815, 12)\n",
      "quantidade por categoria: \n",
      "1    19071\n",
      "0    13831\n",
      "2     7913\n",
      "Name: target, dtype: int64\n"
     ]
    }
   ],
   "source": [
    "df_path = '/content/drive/MyDrive/top_Glauber/dataframe/dataset_v2.csv'\n",
    "df = pd.read_csv(df_path)\n",
    "\n",
    "df['floor_price'].fillna(0, inplace=True)\n",
    "df = df.drop(['name_json','slug', 'count'], axis = 1)\n",
    "df['target'] = df['category'].apply(lambda x: 1 if x == 'art' else 0 if x == 'pfps' else 2)\n",
    "\n",
    "mask = (df['total_supply'] > 0) & (df['total_sales'] > 0)\n",
    "# Aplicando a máscara para filtrar o DataFrame\n",
    "df = df[mask]\n",
    "print(f'shape: {df.shape}')\n",
    "print(f\"quantidade por categoria: \\n{df['target'].value_counts()}\")"
   ]
  },
  {
   "cell_type": "markdown",
   "metadata": {
    "id": "kELMpBy1S1qM"
   },
   "source": [
    "### 🧮 Usar metodologia de treino e teste (75% - 25%)"
   ]
  },
  {
   "cell_type": "code",
   "execution_count": null,
   "metadata": {
    "colab": {
     "base_uri": "https://localhost:8080/"
    },
    "id": "NklwxhocPyb2",
    "outputId": "998860d3-314b-4237-9def-e769b71738a9"
   },
   "outputs": [
    {
     "name": "stdout",
     "output_type": "stream",
     "text": [
      "X_train dataset:  (30611, 10)\n",
      "y_train dataset:  (30611,)\n",
      "X_test dataset:  (10204, 10)\n",
      "y_test dataset:  (10204,)\n"
     ]
    }
   ],
   "source": [
    "y = df['target'] # ----> caracteristicas (1 = art / 0 = não art / 2 = others)\n",
    "X = df.drop(['target', 'category'],axis = 1)\n",
    "\n",
    "X_train, X_test, y_train, y_test = train_test_split(X, y, train_size=0.75, random_state=42)\n",
    "\n",
    "print(\"X_train dataset: \", X_train.shape)\n",
    "print(\"y_train dataset: \", y_train.shape)\n",
    "print(\"X_test dataset: \", X_test.shape)\n",
    "print(\"y_test dataset: \", y_test.shape)"
   ]
  },
  {
   "cell_type": "code",
   "execution_count": null,
   "metadata": {
    "colab": {
     "base_uri": "https://localhost:8080/"
    },
    "id": "Oo_anNsuTJbI",
    "outputId": "cafdb8fc-27f4-4b04-e6e5-235b71e041a6"
   },
   "outputs": [
    {
     "name": "stdout",
     "output_type": "stream",
     "text": [
      "After Undersampling, the shape of train_X: (11078, 10)\n",
      "After Undersampling, the shape of train_y: (11078,) \n",
      "\n",
      "After Undersampling, counts of label '1' art: 3015\n",
      "After Undersampling, counts of label '0' pfps: 2128\n",
      "After Undersampling, counts of label '2' others: 2128\n"
     ]
    }
   ],
   "source": [
    "enn = ENN()\n",
    "X_train_res, y_train_res = enn.fit_resample(X_train, y_train.ravel())\n",
    "\n",
    "print('After Undersampling, the shape of train_X: {}'.format(X_train_res.shape))\n",
    "print('After Undersampling, the shape of train_y: {} \\n'.format(y_train_res.shape))\n",
    "\n",
    "print(\"After Undersampling, counts of label '1' art: {}\".format(sum(y_train_res == 1)))\n",
    "print(\"After Undersampling, counts of label '0' pfps: {}\".format(sum(y_train_res == 0)))\n",
    "print(\"After Undersampling, counts of label '2' others: {}\".format(sum(y_train_res == 0)))"
   ]
  },
  {
   "cell_type": "markdown",
   "metadata": {
    "id": "r02fnBqyTX3F"
   },
   "source": [
    "### 🧮 Random Forest - Classificação ternária ( 'art' x 'pfps' x 'others') com ENN"
   ]
  },
  {
   "cell_type": "code",
   "execution_count": null,
   "metadata": {
    "colab": {
     "base_uri": "https://localhost:8080/",
     "height": 92
    },
    "id": "0jla0zvYTQs3",
    "outputId": "485d3745-ff29-4041-c8ec-1b8290ea625d"
   },
   "outputs": [
    {
     "data": {
      "text/html": [
       "<style>#sk-container-id-7 {color: black;background-color: white;}#sk-container-id-7 pre{padding: 0;}#sk-container-id-7 div.sk-toggleable {background-color: white;}#sk-container-id-7 label.sk-toggleable__label {cursor: pointer;display: block;width: 100%;margin-bottom: 0;padding: 0.3em;box-sizing: border-box;text-align: center;}#sk-container-id-7 label.sk-toggleable__label-arrow:before {content: \"▸\";float: left;margin-right: 0.25em;color: #696969;}#sk-container-id-7 label.sk-toggleable__label-arrow:hover:before {color: black;}#sk-container-id-7 div.sk-estimator:hover label.sk-toggleable__label-arrow:before {color: black;}#sk-container-id-7 div.sk-toggleable__content {max-height: 0;max-width: 0;overflow: hidden;text-align: left;background-color: #f0f8ff;}#sk-container-id-7 div.sk-toggleable__content pre {margin: 0.2em;color: black;border-radius: 0.25em;background-color: #f0f8ff;}#sk-container-id-7 input.sk-toggleable__control:checked~div.sk-toggleable__content {max-height: 200px;max-width: 100%;overflow: auto;}#sk-container-id-7 input.sk-toggleable__control:checked~label.sk-toggleable__label-arrow:before {content: \"▾\";}#sk-container-id-7 div.sk-estimator input.sk-toggleable__control:checked~label.sk-toggleable__label {background-color: #d4ebff;}#sk-container-id-7 div.sk-label input.sk-toggleable__control:checked~label.sk-toggleable__label {background-color: #d4ebff;}#sk-container-id-7 input.sk-hidden--visually {border: 0;clip: rect(1px 1px 1px 1px);clip: rect(1px, 1px, 1px, 1px);height: 1px;margin: -1px;overflow: hidden;padding: 0;position: absolute;width: 1px;}#sk-container-id-7 div.sk-estimator {font-family: monospace;background-color: #f0f8ff;border: 1px dotted black;border-radius: 0.25em;box-sizing: border-box;margin-bottom: 0.5em;}#sk-container-id-7 div.sk-estimator:hover {background-color: #d4ebff;}#sk-container-id-7 div.sk-parallel-item::after {content: \"\";width: 100%;border-bottom: 1px solid gray;flex-grow: 1;}#sk-container-id-7 div.sk-label:hover label.sk-toggleable__label {background-color: #d4ebff;}#sk-container-id-7 div.sk-serial::before {content: \"\";position: absolute;border-left: 1px solid gray;box-sizing: border-box;top: 0;bottom: 0;left: 50%;z-index: 0;}#sk-container-id-7 div.sk-serial {display: flex;flex-direction: column;align-items: center;background-color: white;padding-right: 0.2em;padding-left: 0.2em;position: relative;}#sk-container-id-7 div.sk-item {position: relative;z-index: 1;}#sk-container-id-7 div.sk-parallel {display: flex;align-items: stretch;justify-content: center;background-color: white;position: relative;}#sk-container-id-7 div.sk-item::before, #sk-container-id-7 div.sk-parallel-item::before {content: \"\";position: absolute;border-left: 1px solid gray;box-sizing: border-box;top: 0;bottom: 0;left: 50%;z-index: -1;}#sk-container-id-7 div.sk-parallel-item {display: flex;flex-direction: column;z-index: 1;position: relative;background-color: white;}#sk-container-id-7 div.sk-parallel-item:first-child::after {align-self: flex-end;width: 50%;}#sk-container-id-7 div.sk-parallel-item:last-child::after {align-self: flex-start;width: 50%;}#sk-container-id-7 div.sk-parallel-item:only-child::after {width: 0;}#sk-container-id-7 div.sk-dashed-wrapped {border: 1px dashed gray;margin: 0 0.4em 0.5em 0.4em;box-sizing: border-box;padding-bottom: 0.4em;background-color: white;}#sk-container-id-7 div.sk-label label {font-family: monospace;font-weight: bold;display: inline-block;line-height: 1.2em;}#sk-container-id-7 div.sk-label-container {text-align: center;}#sk-container-id-7 div.sk-container {/* jupyter's `normalize.less` sets `[hidden] { display: none; }` but bootstrap.min.css set `[hidden] { display: none !important; }` so we also need the `!important` here to be able to override the default hidden behavior on the sphinx rendered scikit-learn.org. See: https://github.com/scikit-learn/scikit-learn/issues/21755 */display: inline-block !important;position: relative;}#sk-container-id-7 div.sk-text-repr-fallback {display: none;}</style><div id=\"sk-container-id-7\" class=\"sk-top-container\"><div class=\"sk-text-repr-fallback\"><pre>RandomForestClassifier(min_samples_leaf=15, min_samples_split=20,\n",
       "                       n_estimators=1000)</pre><b>In a Jupyter environment, please rerun this cell to show the HTML representation or trust the notebook. <br />On GitHub, the HTML representation is unable to render, please try loading this page with nbviewer.org.</b></div><div class=\"sk-container\" hidden><div class=\"sk-item\"><div class=\"sk-estimator sk-toggleable\"><input class=\"sk-toggleable__control sk-hidden--visually\" id=\"sk-estimator-id-7\" type=\"checkbox\" checked><label for=\"sk-estimator-id-7\" class=\"sk-toggleable__label sk-toggleable__label-arrow\">RandomForestClassifier</label><div class=\"sk-toggleable__content\"><pre>RandomForestClassifier(min_samples_leaf=15, min_samples_split=20,\n",
       "                       n_estimators=1000)</pre></div></div></div></div></div>"
      ],
      "text/plain": [
       "RandomForestClassifier(min_samples_leaf=15, min_samples_split=20,\n",
       "                       n_estimators=1000)"
      ]
     },
     "execution_count": 60,
     "metadata": {},
     "output_type": "execute_result"
    }
   ],
   "source": [
    "model = RandomForestClassifier(n_estimators=1000, min_samples_split=20, min_samples_leaf=15)\n",
    "model.fit(X_train_res, y_train_res)"
   ]
  },
  {
   "cell_type": "code",
   "execution_count": null,
   "metadata": {
    "colab": {
     "base_uri": "https://localhost:8080/"
    },
    "id": "tK3tXD0YTQ2A",
    "outputId": "3601aed7-c89f-4272-f57f-4fa76a389cd8"
   },
   "outputs": [
    {
     "name": "stdout",
     "output_type": "stream",
     "text": [
      "Acurácia: 0.4161113288906311\n",
      "Precisão: 0.6304906735499178\n",
      "Revocação: 0.4161113288906311\n",
      "F1-Score: 0.4345583500248785\n"
     ]
    }
   ],
   "source": [
    "# Fazer previsões no conjunto de teste usando o melhor modelo\n",
    "y_pred = model.predict(X_test)\n",
    "\n",
    "# Calcular métricas de avaliação\n",
    "acuracia = accuracy_score(y_test, y_pred)\n",
    "precisao = precision_score(y_test, y_pred, average='weighted')  # Precisão ponderada por classe\n",
    "revocacao = recall_score(y_test, y_pred, average='weighted')  # Revocação ponderada por classe\n",
    "f1 = f1_score(y_test, y_pred, average='weighted')  # F1-Score ponderado por classe\n",
    "\n",
    "# Exibir as métricas de avaliação\n",
    "print(\"Acurácia:\", acuracia)\n",
    "print(\"Precisão:\", precisao)\n",
    "print(\"Revocação:\", revocacao)\n",
    "print(\"F1-Score:\", f1)"
   ]
  },
  {
   "cell_type": "code",
   "execution_count": null,
   "metadata": {
    "colab": {
     "base_uri": "https://localhost:8080/"
    },
    "id": "tE9W5XYGTjD6",
    "outputId": "86ea7863-157d-47fd-e733-b61b26bb1d5a"
   },
   "outputs": [
    {
     "name": "stdout",
     "output_type": "stream",
     "text": [
      "              precision    recall  f1-score   support\n",
      "\n",
      "           0       0.77      0.37      0.50      3387\n",
      "           1       0.69      0.30      0.42      4839\n",
      "           2       0.24      0.79      0.37      1978\n",
      "\n",
      "    accuracy                           0.42     10204\n",
      "   macro avg       0.57      0.49      0.43     10204\n",
      "weighted avg       0.63      0.42      0.44     10204\n",
      "\n"
     ]
    }
   ],
   "source": [
    "report = classification_report(y_test, y_pred)\n",
    "\n",
    "# Exibir o relatório de classificação\n",
    "print(report)"
   ]
  },
  {
   "cell_type": "markdown",
   "metadata": {
    "id": "hq9UKpjFhEku"
   },
   "source": [
    "## SMOTE (Técnica de Oversampling Minoritário Sintético)\n",
    "## 🧮 Classificação Ternário sem Filtro\n",
    " - Oversampling\n",
    "  - Seu objetivo é equilibrar a distribuição de classes, aumentando aleatoriamente os exemplos de classes minoritárias, replicando-os.\n"
   ]
  },
  {
   "cell_type": "code",
   "execution_count": null,
   "metadata": {
    "id": "sta7M-lwgpdY"
   },
   "outputs": [],
   "source": [
    "# df_path = '/content/drive/MyDrive/top_Glauber/dataframe/dataset_v2.csv'\n",
    "df_path = '/content/drive/MyDrive/tópicos em computação - Glauber/dataframe/dataset_v2.csv'\n",
    "df = pd.read_csv(df_path)"
   ]
  },
  {
   "cell_type": "code",
   "execution_count": null,
   "metadata": {
    "colab": {
     "base_uri": "https://localhost:8080/"
    },
    "id": "b4ljezMxg3Oa",
    "outputId": "ca1358db-2d5f-4637-a99a-92f64a011cbf"
   },
   "outputs": [
    {
     "data": {
      "text/plain": [
       "(427788, 12)"
      ]
     },
     "execution_count": 5,
     "metadata": {},
     "output_type": "execute_result"
    }
   ],
   "source": [
    "df['floor_price'].fillna(0, inplace=True)\n",
    "df = df.drop(['name_json','slug', 'count'], axis = 1)\n",
    "df['target'] = df['category'].apply(lambda x: 1 if x == 'art' else 0 if x == 'pfps' else 2)\n",
    "df.shape"
   ]
  },
  {
   "cell_type": "code",
   "execution_count": null,
   "metadata": {
    "colab": {
     "base_uri": "https://localhost:8080/"
    },
    "id": "GpwHSNOtg3Ye",
    "outputId": "763800d7-441b-4afe-cf77-421df5dda757"
   },
   "outputs": [
    {
     "data": {
      "text/plain": [
       "1    247507\n",
       "2    134983\n",
       "0     45298\n",
       "Name: target, dtype: int64"
      ]
     },
     "execution_count": 6,
     "metadata": {},
     "output_type": "execute_result"
    }
   ],
   "source": [
    "df['target'].value_counts()"
   ]
  },
  {
   "cell_type": "markdown",
   "metadata": {
    "id": "l5mrk0E4hhQr"
   },
   "source": [
    "### 🧮 Usar metodologia de treino e teste (75% - 25%)"
   ]
  },
  {
   "cell_type": "code",
   "execution_count": null,
   "metadata": {
    "id": "DVyAsWoYg3dE"
   },
   "outputs": [],
   "source": [
    "y = df['target'] # ----> caracteristicas (1 = art / 0 = pfps / 2 = others)\n",
    "X = df.drop(['target', 'category'],axis = 1)"
   ]
  },
  {
   "cell_type": "code",
   "execution_count": null,
   "metadata": {
    "colab": {
     "base_uri": "https://localhost:8080/"
    },
    "id": "GCEiwT1ug3iQ",
    "outputId": "5cfa5887-e4ec-4406-bbd8-e4351d3162bf"
   },
   "outputs": [
    {
     "name": "stdout",
     "output_type": "stream",
     "text": [
      "X_train dataset:  (320841, 10)\n",
      "y_train dataset:  (320841,)\n",
      "X_test dataset:  (106947, 10)\n",
      "y_test dataset:  (106947,)\n"
     ]
    }
   ],
   "source": [
    "X_train, X_test, y_train, y_test = train_test_split(X, y, train_size=0.75, random_state=42)\n",
    "\n",
    "print(\"X_train dataset: \", X_train.shape)\n",
    "print(\"y_train dataset: \", y_train.shape)\n",
    "print(\"X_test dataset: \", X_test.shape)\n",
    "print(\"y_test dataset: \", y_test.shape)"
   ]
  },
  {
   "cell_type": "code",
   "execution_count": null,
   "metadata": {
    "colab": {
     "base_uri": "https://localhost:8080/"
    },
    "id": "9Kru7mOtg3mr",
    "outputId": "1d8c5ae2-6ecc-49a0-bb4b-ca79322e3f81"
   },
   "outputs": [
    {
     "name": "stdout",
     "output_type": "stream",
     "text": [
      "After OverSampling, the shape of train_X: (556812, 10)\n",
      "After OverSampling, the shape of train_y: (556812,) \n",
      "\n",
      "After OverSampling, counts of label '1' art: 185604\n",
      "After OverSampling, counts of label '0' pfps: 185604\n",
      "After OverSampling, counts of label '2' others: 185604\n"
     ]
    }
   ],
   "source": [
    "sm = SMOTE(random_state = 2)\n",
    "X_train_res, y_train_res = sm.fit_resample(X_train, y_train.ravel())\n",
    "\n",
    "print('After OverSampling, the shape of train_X: {}'.format(X_train_res.shape))\n",
    "print('After OverSampling, the shape of train_y: {} \\n'.format(y_train_res.shape))\n",
    "\n",
    "print(\"After OverSampling, counts of label '1' art: {}\".format(sum(y_train_res == 1)))\n",
    "print(\"After OverSampling, counts of label '0' pfps: {}\".format(sum(y_train_res == 0)))\n",
    "print(\"After OverSampling, counts of label '2' others: {}\".format(sum(y_train_res == 2)))"
   ]
  },
  {
   "cell_type": "markdown",
   "metadata": {
    "id": "5Qrp6Ib2ijov"
   },
   "source": [
    "### 🧮 Random Forest - Classificação Ternária ( 'art' x 'pfps' x others ) com Oversampling (SMOTE)"
   ]
  },
  {
   "cell_type": "code",
   "execution_count": null,
   "metadata": {
    "colab": {
     "base_uri": "https://localhost:8080/",
     "height": 92
    },
    "id": "AfdkkWXRihR8",
    "outputId": "64555169-18c7-469f-bb64-3d687f1f0841"
   },
   "outputs": [
    {
     "data": {
      "text/html": [
       "<style>#sk-container-id-1 {color: black;background-color: white;}#sk-container-id-1 pre{padding: 0;}#sk-container-id-1 div.sk-toggleable {background-color: white;}#sk-container-id-1 label.sk-toggleable__label {cursor: pointer;display: block;width: 100%;margin-bottom: 0;padding: 0.3em;box-sizing: border-box;text-align: center;}#sk-container-id-1 label.sk-toggleable__label-arrow:before {content: \"▸\";float: left;margin-right: 0.25em;color: #696969;}#sk-container-id-1 label.sk-toggleable__label-arrow:hover:before {color: black;}#sk-container-id-1 div.sk-estimator:hover label.sk-toggleable__label-arrow:before {color: black;}#sk-container-id-1 div.sk-toggleable__content {max-height: 0;max-width: 0;overflow: hidden;text-align: left;background-color: #f0f8ff;}#sk-container-id-1 div.sk-toggleable__content pre {margin: 0.2em;color: black;border-radius: 0.25em;background-color: #f0f8ff;}#sk-container-id-1 input.sk-toggleable__control:checked~div.sk-toggleable__content {max-height: 200px;max-width: 100%;overflow: auto;}#sk-container-id-1 input.sk-toggleable__control:checked~label.sk-toggleable__label-arrow:before {content: \"▾\";}#sk-container-id-1 div.sk-estimator input.sk-toggleable__control:checked~label.sk-toggleable__label {background-color: #d4ebff;}#sk-container-id-1 div.sk-label input.sk-toggleable__control:checked~label.sk-toggleable__label {background-color: #d4ebff;}#sk-container-id-1 input.sk-hidden--visually {border: 0;clip: rect(1px 1px 1px 1px);clip: rect(1px, 1px, 1px, 1px);height: 1px;margin: -1px;overflow: hidden;padding: 0;position: absolute;width: 1px;}#sk-container-id-1 div.sk-estimator {font-family: monospace;background-color: #f0f8ff;border: 1px dotted black;border-radius: 0.25em;box-sizing: border-box;margin-bottom: 0.5em;}#sk-container-id-1 div.sk-estimator:hover {background-color: #d4ebff;}#sk-container-id-1 div.sk-parallel-item::after {content: \"\";width: 100%;border-bottom: 1px solid gray;flex-grow: 1;}#sk-container-id-1 div.sk-label:hover label.sk-toggleable__label {background-color: #d4ebff;}#sk-container-id-1 div.sk-serial::before {content: \"\";position: absolute;border-left: 1px solid gray;box-sizing: border-box;top: 0;bottom: 0;left: 50%;z-index: 0;}#sk-container-id-1 div.sk-serial {display: flex;flex-direction: column;align-items: center;background-color: white;padding-right: 0.2em;padding-left: 0.2em;position: relative;}#sk-container-id-1 div.sk-item {position: relative;z-index: 1;}#sk-container-id-1 div.sk-parallel {display: flex;align-items: stretch;justify-content: center;background-color: white;position: relative;}#sk-container-id-1 div.sk-item::before, #sk-container-id-1 div.sk-parallel-item::before {content: \"\";position: absolute;border-left: 1px solid gray;box-sizing: border-box;top: 0;bottom: 0;left: 50%;z-index: -1;}#sk-container-id-1 div.sk-parallel-item {display: flex;flex-direction: column;z-index: 1;position: relative;background-color: white;}#sk-container-id-1 div.sk-parallel-item:first-child::after {align-self: flex-end;width: 50%;}#sk-container-id-1 div.sk-parallel-item:last-child::after {align-self: flex-start;width: 50%;}#sk-container-id-1 div.sk-parallel-item:only-child::after {width: 0;}#sk-container-id-1 div.sk-dashed-wrapped {border: 1px dashed gray;margin: 0 0.4em 0.5em 0.4em;box-sizing: border-box;padding-bottom: 0.4em;background-color: white;}#sk-container-id-1 div.sk-label label {font-family: monospace;font-weight: bold;display: inline-block;line-height: 1.2em;}#sk-container-id-1 div.sk-label-container {text-align: center;}#sk-container-id-1 div.sk-container {/* jupyter's `normalize.less` sets `[hidden] { display: none; }` but bootstrap.min.css set `[hidden] { display: none !important; }` so we also need the `!important` here to be able to override the default hidden behavior on the sphinx rendered scikit-learn.org. See: https://github.com/scikit-learn/scikit-learn/issues/21755 */display: inline-block !important;position: relative;}#sk-container-id-1 div.sk-text-repr-fallback {display: none;}</style><div id=\"sk-container-id-1\" class=\"sk-top-container\"><div class=\"sk-text-repr-fallback\"><pre>RandomForestClassifier(min_samples_leaf=15, min_samples_split=20,\n",
       "                       n_estimators=1000)</pre><b>In a Jupyter environment, please rerun this cell to show the HTML representation or trust the notebook. <br />On GitHub, the HTML representation is unable to render, please try loading this page with nbviewer.org.</b></div><div class=\"sk-container\" hidden><div class=\"sk-item\"><div class=\"sk-estimator sk-toggleable\"><input class=\"sk-toggleable__control sk-hidden--visually\" id=\"sk-estimator-id-1\" type=\"checkbox\" checked><label for=\"sk-estimator-id-1\" class=\"sk-toggleable__label sk-toggleable__label-arrow\">RandomForestClassifier</label><div class=\"sk-toggleable__content\"><pre>RandomForestClassifier(min_samples_leaf=15, min_samples_split=20,\n",
       "                       n_estimators=1000)</pre></div></div></div></div></div>"
      ],
      "text/plain": [
       "RandomForestClassifier(min_samples_leaf=15, min_samples_split=20,\n",
       "                       n_estimators=1000)"
      ]
     },
     "execution_count": 10,
     "metadata": {},
     "output_type": "execute_result"
    }
   ],
   "source": [
    "model = RandomForestClassifier(n_estimators=1000, min_samples_split=20, min_samples_leaf=15)\n",
    "model.fit(X_train_res, y_train_res)"
   ]
  },
  {
   "cell_type": "code",
   "execution_count": null,
   "metadata": {
    "colab": {
     "base_uri": "https://localhost:8080/"
    },
    "id": "Rx2yhNxdizlG",
    "outputId": "62178e5d-9a56-4e5d-94be-6a676f6b8ce3"
   },
   "outputs": [
    {
     "name": "stdout",
     "output_type": "stream",
     "text": [
      "Acurácia: 0.6358476628610433\n",
      "Precisão: 0.6530993011354117\n",
      "Revocação: 0.6358476628610433\n",
      "F1-Score: 0.6415558231462707\n"
     ]
    }
   ],
   "source": [
    "# Fazer previsões no conjunto de teste usando o melhor modelo\n",
    "y_pred = model.predict(X_test)\n",
    "\n",
    "# Calcular métricas de avaliação\n",
    "acuracia = accuracy_score(y_test, y_pred)\n",
    "precisao = precision_score(y_test, y_pred, average='weighted')  # Precisão ponderada por classe\n",
    "revocacao = recall_score(y_test, y_pred, average='weighted')  # Revocação ponderada por classe\n",
    "f1 = f1_score(y_test, y_pred, average='weighted')  # F1-Score ponderado por classe\n",
    "\n",
    "# Exibir as métricas de avaliação\n",
    "print(\"Acurácia:\", acuracia)\n",
    "print(\"Precisão:\", precisao)\n",
    "print(\"Revocação:\", revocacao)\n",
    "print(\"F1-Score:\", f1)"
   ]
  },
  {
   "cell_type": "code",
   "execution_count": null,
   "metadata": {
    "colab": {
     "base_uri": "https://localhost:8080/"
    },
    "id": "AZknv4f4ic5P",
    "outputId": "801454c0-f002-463a-8313-57f9cc8ec180"
   },
   "outputs": [
    {
     "name": "stdout",
     "output_type": "stream",
     "text": [
      "              precision    recall  f1-score   support\n",
      "\n",
      "           0       0.30      0.45      0.36     11380\n",
      "           1       0.72      0.72      0.72     61903\n",
      "           2       0.65      0.54      0.59     33664\n",
      "\n",
      "    accuracy                           0.64    106947\n",
      "   macro avg       0.56      0.57      0.56    106947\n",
      "weighted avg       0.65      0.64      0.64    106947\n",
      "\n"
     ]
    }
   ],
   "source": [
    "report = classification_report(y_test, y_pred)\n",
    "\n",
    "# Exibir o relatório de classificação\n",
    "print(report)"
   ]
  },
  {
   "cell_type": "markdown",
   "metadata": {
    "id": "MJL1F5VwhyPR"
   },
   "source": [
    "### 🧮 Matriz de confusão - Random Forest Classificação Ternária ( 'art' x 'pfps'x 'others' )\n",
    " - Oversampling (SMOTE)\n",
    " - Sem filtro"
   ]
  },
  {
   "cell_type": "code",
   "execution_count": null,
   "metadata": {
    "colab": {
     "base_uri": "https://localhost:8080/",
     "height": 576
    },
    "id": "qwz0HC0Tg3r4",
    "outputId": "2821a39e-c476-425c-c903-272eb31aa97d"
   },
   "outputs": [
    {
     "data": {
      "image/png": "[encoded data removed]",
      "text/plain": [
       "<Figure size 700x700 with 2 Axes>"
      ]
     },
     "metadata": {},
     "output_type": "display_data"
    }
   ],
   "source": [
    "plt.rcParams['figure.figsize'] = (7, 7)\n",
    "plt.style.use('ggplot')\n",
    "\n",
    "category = ['art', 'pfps', 'outros']\n",
    "disp = ConfusionMatrixDisplay(confusion_matrix=confusion_matrix(y_test, y_pred), display_labels=category)\n",
    "cmap = 'PuBu'\n",
    "\n",
    "disp.plot(cmap=cmap)\n",
    "# plt.title(\"RF Classificação Ternária\")\n",
    "plt.grid(False)\n",
    "plt.show()"
   ]
  },
  {
   "cell_type": "markdown",
   "metadata": {
    "id": "N85yHc6giHMI"
   },
   "source": [
    "### 🧮 Importância dos atributos - Random Forest Classificação Ternária (Art vs No Art vs Others)\n",
    "- Oversampling (SMOTE)\n",
    "- Sem filtro"
   ]
  },
  {
   "cell_type": "code",
   "execution_count": null,
   "metadata": {
    "colab": {
     "base_uri": "https://localhost:8080/"
    },
    "id": "p364Dabug3yb",
    "outputId": "3d3e7405-5d6b-4a3c-c62c-d1f5709a062c"
   },
   "outputs": [
    {
     "name": "stdout",
     "output_type": "stream",
     "text": [
      "         Feature  Importância\n",
      "2   total_supply     0.372539\n",
      "3     num_owners     0.229592\n",
      "0   total_volume     0.080628\n",
      "4  average_price     0.079188\n",
      "7    floor_price     0.078529\n",
      "8     qtd_traits     0.074980\n",
      "1    total_sales     0.071936\n",
      "9    qtd_editors     0.008801\n",
      "6     market_cap     0.003636\n",
      "5    num_reports     0.000171\n"
     ]
    }
   ],
   "source": [
    "# Obtenha a importância das features\n",
    "importancia_features = model.feature_importances_\n",
    "\n",
    "# Crie um DataFrame com as importâncias das features\n",
    "df_importancia = pd.DataFrame({'Feature': X.columns, 'Importância': importancia_features})\n",
    "\n",
    "# Ordene o DataFrame pela importância das features em ordem decrescente\n",
    "df_importancia = df_importancia.sort_values(by='Importância', ascending=False)\n",
    "\n",
    "# Exiba o DataFrame resultante\n",
    "print(df_importancia)"
   ]
  },
  {
   "cell_type": "markdown",
   "metadata": {
    "id": "A6qFnV02jYjY"
   },
   "source": [
    "## 🧮 Testando ENN - Classificação Ternária Undersampling\n",
    " - ENN (Edited Nearest Neighbours)\n",
    "  - Enquanto o oversampling aumenta a quantidade de exemplos da classe minoritária, o undersampling faz o contrário: ele diminui a quantidade de exemplos da classe majoritária. Um dos métodos mais utilizados é chamado de ENN (Edited Nearest Neighbours)"
   ]
  },
  {
   "cell_type": "code",
   "execution_count": null,
   "metadata": {
    "colab": {
     "base_uri": "https://localhost:8080/"
    },
    "id": "EiDeueQtg32B",
    "outputId": "d01ff985-43ed-4054-afff-8c987251f300"
   },
   "outputs": [
    {
     "name": "stdout",
     "output_type": "stream",
     "text": [
      "shape: (427788, 12)\n",
      "quantidade por categoria: \n",
      "1    247507\n",
      "2    134983\n",
      "0     45298\n",
      "Name: target, dtype: int64\n"
     ]
    }
   ],
   "source": [
    "df_path = '/content/drive/MyDrive/top_Glauber/dataframe/dataset_v2.csv'\n",
    "df = pd.read_csv(df_path)\n",
    "\n",
    "df['floor_price'].fillna(0, inplace=True)\n",
    "df = df.drop(['name_json','slug', 'count'], axis = 1)\n",
    "df['target'] = df['category'].apply(lambda x: 1 if x == 'art' else 0 if x == 'pfps' else 2)\n",
    "\n",
    "print(f'shape: {df.shape}')\n",
    "print(f\"quantidade por categoria: \\n{df['target'].value_counts()}\")"
   ]
  },
  {
   "cell_type": "markdown",
   "metadata": {
    "id": "idoVl4S1j76B"
   },
   "source": [
    "### 🧮 Usar metodologia de treino e teste (75% - 25%)"
   ]
  },
  {
   "cell_type": "code",
   "execution_count": null,
   "metadata": {
    "colab": {
     "base_uri": "https://localhost:8080/"
    },
    "id": "MKSu66dfYQG9",
    "outputId": "037b53a5-5062-4dc9-f6c4-e356c0f7e229"
   },
   "outputs": [
    {
     "name": "stdout",
     "output_type": "stream",
     "text": [
      "X_train dataset:  (320841, 10)\n",
      "y_train dataset:  (320841,)\n",
      "X_test dataset:  (106947, 10)\n",
      "y_test dataset:  (106947,)\n"
     ]
    }
   ],
   "source": [
    "y = df['target'] # ----> caracteristicas (1 = art / 0 = pfps / 2 = others)\n",
    "X = df.drop(['target', 'category'],axis = 1)\n",
    "\n",
    "X_train, X_test, y_train, y_test = train_test_split(X, y, train_size=0.75, random_state=42)\n",
    "\n",
    "print(\"X_train dataset: \", X_train.shape)\n",
    "print(\"y_train dataset: \", y_train.shape)\n",
    "print(\"X_test dataset: \", X_test.shape)\n",
    "print(\"y_test dataset: \", y_test.shape)"
   ]
  },
  {
   "cell_type": "code",
   "execution_count": null,
   "metadata": {
    "colab": {
     "base_uri": "https://localhost:8080/"
    },
    "id": "FIH9qjoOg36G",
    "outputId": "4e9b2705-4385-40e3-cc18-c8d49412143b"
   },
   "outputs": [
    {
     "name": "stdout",
     "output_type": "stream",
     "text": [
      "After Undersampling, the shape of train_X: (82445, 10)\n",
      "After Undersampling, the shape of train_y: (82445,) \n",
      "\n",
      "After Undersampling, counts of label '1' art: 47610\n",
      "After Undersampling, counts of label '0' pfps: 33918\n",
      "After Undersampling, counts of label '2' others: 33918\n"
     ]
    }
   ],
   "source": [
    "enn = ENN()\n",
    "X_train_res, y_train_res = enn.fit_resample(X_train, y_train.ravel())\n",
    "\n",
    "print('After Undersampling, the shape of train_X: {}'.format(X_train_res.shape))\n",
    "print('After Undersampling, the shape of train_y: {} \\n'.format(y_train_res.shape))\n",
    "\n",
    "print(\"After Undersampling, counts of label '1' art: {}\".format(sum(y_train_res == 1)))\n",
    "print(\"After Undersampling, counts of label '0' pfps: {}\".format(sum(y_train_res == 0)))\n",
    "print(\"After Undersampling, counts of label '2' others: {}\".format(sum(y_train_res == 0)))"
   ]
  },
  {
   "cell_type": "code",
   "execution_count": null,
   "metadata": {
    "colab": {
     "base_uri": "https://localhost:8080/"
    },
    "id": "KMnKN5Kfgprr",
    "outputId": "b1d66ef6-b66a-486c-90e5-f70293f3c117"
   },
   "outputs": [
    {
     "name": "stdout",
     "output_type": "stream",
     "text": [
      "X_train dataset:  (320841, 10)\n",
      "y_train dataset:  (320841,)\n",
      "X_test dataset:  (106947, 10)\n",
      "y_test dataset:  (106947,)\n"
     ]
    }
   ],
   "source": [
    "y = df['target'] # ----> caracteristicas (1 = art / 0 = não art / 2 = others)\n",
    "X = df.drop(['target', 'category'],axis = 1)\n",
    "\n",
    "X_train, X_test, y_train, y_test = train_test_split(X, y, train_size=0.75, random_state=42)\n",
    "\n",
    "print(\"X_train dataset: \", X_train.shape)\n",
    "print(\"y_train dataset: \", y_train.shape)\n",
    "print(\"X_test dataset: \", X_test.shape)\n",
    "print(\"y_test dataset: \", y_test.shape)"
   ]
  },
  {
   "cell_type": "code",
   "execution_count": null,
   "metadata": {
    "colab": {
     "base_uri": "https://localhost:8080/"
    },
    "id": "53oxt1G7gpx6",
    "outputId": "c1c9f44a-4a58-4f74-d75c-ec073fa54632"
   },
   "outputs": [
    {
     "name": "stdout",
     "output_type": "stream",
     "text": [
      "After Undersampling, the shape of train_X: (82445, 10)\n",
      "After Undersampling, the shape of train_y: (82445,) \n",
      "\n",
      "After Undersampling, counts of label '1' art: 47610\n",
      "After Undersampling, counts of label '0' pfps: 33918\n",
      "After Undersampling, counts of label '2' others: 33918\n"
     ]
    }
   ],
   "source": [
    "enn = ENN()\n",
    "X_train_res, y_train_res = enn.fit_resample(X_train, y_train.ravel())\n",
    "\n",
    "print('After Undersampling, the shape of train_X: {}'.format(X_train_res.shape))\n",
    "print('After Undersampling, the shape of train_y: {} \\n'.format(y_train_res.shape))\n",
    "\n",
    "print(\"After Undersampling, counts of label '1' art: {}\".format(sum(y_train_res == 1)))\n",
    "print(\"After Undersampling, counts of label '0' pfps: {}\".format(sum(y_train_res == 0)))\n",
    "print(\"After Undersampling, counts of label '2' others: {}\".format(sum(y_train_res == 0)))"
   ]
  },
  {
   "cell_type": "markdown",
   "metadata": {
    "id": "jlw7WWC3kW4Q"
   },
   "source": [
    "### 🧮 Random Forest - Classificação binária ( 'art' x 'no art' x 'others' ) com ENN"
   ]
  },
  {
   "cell_type": "code",
   "execution_count": null,
   "metadata": {
    "colab": {
     "base_uri": "https://localhost:8080/",
     "height": 92
    },
    "id": "vRgqimFbkUPb",
    "outputId": "39d6cc54-8a81-4eb2-e89c-4ace132a8261"
   },
   "outputs": [
    {
     "data": {
      "text/html": [
       "<style>#sk-container-id-1 {color: black;background-color: white;}#sk-container-id-1 pre{padding: 0;}#sk-container-id-1 div.sk-toggleable {background-color: white;}#sk-container-id-1 label.sk-toggleable__label {cursor: pointer;display: block;width: 100%;margin-bottom: 0;padding: 0.3em;box-sizing: border-box;text-align: center;}#sk-container-id-1 label.sk-toggleable__label-arrow:before {content: \"▸\";float: left;margin-right: 0.25em;color: #696969;}#sk-container-id-1 label.sk-toggleable__label-arrow:hover:before {color: black;}#sk-container-id-1 div.sk-estimator:hover label.sk-toggleable__label-arrow:before {color: black;}#sk-container-id-1 div.sk-toggleable__content {max-height: 0;max-width: 0;overflow: hidden;text-align: left;background-color: #f0f8ff;}#sk-container-id-1 div.sk-toggleable__content pre {margin: 0.2em;color: black;border-radius: 0.25em;background-color: #f0f8ff;}#sk-container-id-1 input.sk-toggleable__control:checked~div.sk-toggleable__content {max-height: 200px;max-width: 100%;overflow: auto;}#sk-container-id-1 input.sk-toggleable__control:checked~label.sk-toggleable__label-arrow:before {content: \"▾\";}#sk-container-id-1 div.sk-estimator input.sk-toggleable__control:checked~label.sk-toggleable__label {background-color: #d4ebff;}#sk-container-id-1 div.sk-label input.sk-toggleable__control:checked~label.sk-toggleable__label {background-color: #d4ebff;}#sk-container-id-1 input.sk-hidden--visually {border: 0;clip: rect(1px 1px 1px 1px);clip: rect(1px, 1px, 1px, 1px);height: 1px;margin: -1px;overflow: hidden;padding: 0;position: absolute;width: 1px;}#sk-container-id-1 div.sk-estimator {font-family: monospace;background-color: #f0f8ff;border: 1px dotted black;border-radius: 0.25em;box-sizing: border-box;margin-bottom: 0.5em;}#sk-container-id-1 div.sk-estimator:hover {background-color: #d4ebff;}#sk-container-id-1 div.sk-parallel-item::after {content: \"\";width: 100%;border-bottom: 1px solid gray;flex-grow: 1;}#sk-container-id-1 div.sk-label:hover label.sk-toggleable__label {background-color: #d4ebff;}#sk-container-id-1 div.sk-serial::before {content: \"\";position: absolute;border-left: 1px solid gray;box-sizing: border-box;top: 0;bottom: 0;left: 50%;z-index: 0;}#sk-container-id-1 div.sk-serial {display: flex;flex-direction: column;align-items: center;background-color: white;padding-right: 0.2em;padding-left: 0.2em;position: relative;}#sk-container-id-1 div.sk-item {position: relative;z-index: 1;}#sk-container-id-1 div.sk-parallel {display: flex;align-items: stretch;justify-content: center;background-color: white;position: relative;}#sk-container-id-1 div.sk-item::before, #sk-container-id-1 div.sk-parallel-item::before {content: \"\";position: absolute;border-left: 1px solid gray;box-sizing: border-box;top: 0;bottom: 0;left: 50%;z-index: -1;}#sk-container-id-1 div.sk-parallel-item {display: flex;flex-direction: column;z-index: 1;position: relative;background-color: white;}#sk-container-id-1 div.sk-parallel-item:first-child::after {align-self: flex-end;width: 50%;}#sk-container-id-1 div.sk-parallel-item:last-child::after {align-self: flex-start;width: 50%;}#sk-container-id-1 div.sk-parallel-item:only-child::after {width: 0;}#sk-container-id-1 div.sk-dashed-wrapped {border: 1px dashed gray;margin: 0 0.4em 0.5em 0.4em;box-sizing: border-box;padding-bottom: 0.4em;background-color: white;}#sk-container-id-1 div.sk-label label {font-family: monospace;font-weight: bold;display: inline-block;line-height: 1.2em;}#sk-container-id-1 div.sk-label-container {text-align: center;}#sk-container-id-1 div.sk-container {/* jupyter's `normalize.less` sets `[hidden] { display: none; }` but bootstrap.min.css set `[hidden] { display: none !important; }` so we also need the `!important` here to be able to override the default hidden behavior on the sphinx rendered scikit-learn.org. See: https://github.com/scikit-learn/scikit-learn/issues/21755 */display: inline-block !important;position: relative;}#sk-container-id-1 div.sk-text-repr-fallback {display: none;}</style><div id=\"sk-container-id-1\" class=\"sk-top-container\"><div class=\"sk-text-repr-fallback\"><pre>RandomForestClassifier(min_samples_leaf=15, min_samples_split=20,\n",
       "                       n_estimators=1000)</pre><b>In a Jupyter environment, please rerun this cell to show the HTML representation or trust the notebook. <br />On GitHub, the HTML representation is unable to render, please try loading this page with nbviewer.org.</b></div><div class=\"sk-container\" hidden><div class=\"sk-item\"><div class=\"sk-estimator sk-toggleable\"><input class=\"sk-toggleable__control sk-hidden--visually\" id=\"sk-estimator-id-1\" type=\"checkbox\" checked><label for=\"sk-estimator-id-1\" class=\"sk-toggleable__label sk-toggleable__label-arrow\">RandomForestClassifier</label><div class=\"sk-toggleable__content\"><pre>RandomForestClassifier(min_samples_leaf=15, min_samples_split=20,\n",
       "                       n_estimators=1000)</pre></div></div></div></div></div>"
      ],
      "text/plain": [
       "RandomForestClassifier(min_samples_leaf=15, min_samples_split=20,\n",
       "                       n_estimators=1000)"
      ]
     },
     "execution_count": 11,
     "metadata": {},
     "output_type": "execute_result"
    }
   ],
   "source": [
    "model = RandomForestClassifier(n_estimators=1000, min_samples_split=20, min_samples_leaf=15)\n",
    "model.fit(X_train_res, y_train_res)"
   ]
  },
  {
   "cell_type": "code",
   "execution_count": null,
   "metadata": {
    "id": "0hzBpG9skVaC"
   },
   "outputs": [],
   "source": [
    "# Fazer previsões no conjunto de teste usando o melhor modelo\n",
    "y_pred = model.predict(X_test)\n",
    "\n",
    "# Calcular métricas de avaliação\n",
    "acuracia = accuracy_score(y_test, y_pred)\n",
    "precisao = precision_score(y_test, y_pred, average='weighted')  # Precisão ponderada por classe\n",
    "revocacao = recall_score(y_test, y_pred, average='weighted')  # Revocação ponderada por classe\n",
    "f1 = f1_score(y_test, y_pred, average='weighted')  # F1-Score ponderado por classe\n",
    "\n",
    "# Exibir as métricas de avaliação\n",
    "print(\"Acurácia:\", acuracia)\n",
    "print(\"Precisão:\", precisao)\n",
    "print(\"Revocação:\", revocacao)\n",
    "print(\"F1-Score:\", f1)"
   ]
  },
  {
   "cell_type": "code",
   "execution_count": null,
   "metadata": {
    "colab": {
     "base_uri": "https://localhost:8080/"
    },
    "id": "Xp__di5tkVwm",
    "outputId": "650be896-2ee6-4ddb-83f2-870fd5d26406"
   },
   "outputs": [
    {
     "name": "stdout",
     "output_type": "stream",
     "text": [
      "              precision    recall  f1-score   support\n",
      "\n",
      "           0       0.11      0.64      0.19     11380\n",
      "           1       0.71      0.46      0.56     61903\n",
      "           2       0.79      0.00      0.00     33664\n",
      "\n",
      "    accuracy                           0.33    106947\n",
      "   macro avg       0.53      0.37      0.25    106947\n",
      "weighted avg       0.67      0.33      0.34    106947\n",
      "\n"
     ]
    }
   ],
   "source": [
    "report = classification_report(y_test, y_pred)\n",
    "\n",
    "# Exibir o relatório de classificação\n",
    "print(report)"
   ]
  },
  {
   "cell_type": "markdown",
   "metadata": {
    "id": "PkGoqdw_pj-q"
   },
   "source": [
    "### 🧮 Matriz de confusão - Random Forest Classificação Ternária ( 'art' x 'no art'x 'others' )\n",
    " - Undersampling (ENN)\n",
    " - Sem filtro"
   ]
  },
  {
   "cell_type": "code",
   "execution_count": null,
   "metadata": {
    "id": "4Y-5Te7VlKtI"
   },
   "outputs": [],
   "source": [
    "plt.rcParams['figure.figsize'] = (10, 10)\n",
    "plt.style.use('ggplot')\n",
    "\n",
    "disp = ConfusionMatrixDisplay(confusion_matrix=confusion_matrix(y_test, y_pred), display_labels=np.unique(y_test))\n",
    "cmap = 'PuBu'\n",
    "\n",
    "disp.plot(cmap=cmap)\n",
    "plt.title(\"RF Classificação Ternária '1 art' x '0 no art'x '2 others' \")\n",
    "plt.grid(False)\n",
    "plt.show()"
   ]
  },
  {
   "cell_type": "markdown",
   "metadata": {
    "id": "_beDUH-sp2Gl"
   },
   "source": [
    "### 🧮 Importância dos atributos - Random Forest Classificação Ternária (Art vs No Art vs Others)\n",
    "- Undersampling (ENN)\n",
    "- Sem filtro"
   ]
  },
  {
   "cell_type": "code",
   "execution_count": null,
   "metadata": {
    "colab": {
     "base_uri": "https://localhost:8080/"
    },
    "id": "6ONuGNVLlJS6",
    "outputId": "2df0aca1-806b-40b4-8883-155a07e43c8c"
   },
   "outputs": [
    {
     "name": "stdout",
     "output_type": "stream",
     "text": [
      "         Feature  Importância\n",
      "2   total_supply     0.439970\n",
      "3     num_owners     0.200029\n",
      "8     qtd_traits     0.108512\n",
      "7    floor_price     0.083469\n",
      "1    total_sales     0.076990\n",
      "0   total_volume     0.049196\n",
      "4  average_price     0.035603\n",
      "9    qtd_editors     0.004334\n",
      "6     market_cap     0.001224\n",
      "5    num_reports     0.000672\n"
     ]
    }
   ],
   "source": [
    "# Obtenha a importância das features\n",
    "importancia_features = model.feature_importances_\n",
    "\n",
    "# Crie um DataFrame com as importâncias das features\n",
    "df_importancia = pd.DataFrame({'Feature': X.columns, 'Importância': importancia_features})\n",
    "\n",
    "# Ordene o DataFrame pela importância das features em ordem decrescente\n",
    "df_importancia = df_importancia.sort_values(by='Importância', ascending=False)\n",
    "\n",
    "# Exiba o DataFrame resultante\n",
    "print(df_importancia)"
   ]
  },
  {
   "cell_type": "markdown",
   "metadata": {
    "id": "Y-SWVmELjszb"
   },
   "source": [
    "### RF Sem SMOTE e ENN"
   ]
  },
  {
   "cell_type": "code",
   "execution_count": null,
   "metadata": {
    "id": "TvsNHiR9RWLD"
   },
   "outputs": [],
   "source": [
    "df_path = '/content/drive/MyDrive/top_Glauber/dataframe/dataset_v2.csv'\n",
    "df = pd.read_csv(df_path)"
   ]
  },
  {
   "cell_type": "code",
   "execution_count": null,
   "metadata": {
    "colab": {
     "base_uri": "https://localhost:8080/"
    },
    "id": "G8L2jAmlRWWq",
    "outputId": "fd398b41-8b92-418f-c391-730d6d41895f"
   },
   "outputs": [
    {
     "data": {
      "text/plain": [
       "(40815, 12)"
      ]
     },
     "execution_count": 4,
     "metadata": {},
     "output_type": "execute_result"
    }
   ],
   "source": [
    "df['floor_price'].fillna(0, inplace=True)\n",
    "df = df.drop(['name_json','slug', 'count'], axis = 1)\n",
    "df['target'] = df['category'].apply(lambda x: 1 if x == 'art' else 0 if x == 'pfps' else 2)\n",
    "\n",
    "# Filtro\n",
    "mask = (df['total_supply'] > 0) & (df['total_sales'] > 0)\n",
    "# Aplicando a máscara para filtrar o DataFrame\n",
    "df = df[mask]\n",
    "\n",
    "df.shape"
   ]
  },
  {
   "cell_type": "code",
   "execution_count": null,
   "metadata": {
    "colab": {
     "base_uri": "https://localhost:8080/"
    },
    "id": "oDf7XxEuRWfW",
    "outputId": "16040b26-fd5f-44c6-f054-5ee0b0d4cf43"
   },
   "outputs": [
    {
     "data": {
      "text/plain": [
       "1    19071\n",
       "0    13831\n",
       "2     7913\n",
       "Name: target, dtype: int64"
      ]
     },
     "execution_count": 5,
     "metadata": {},
     "output_type": "execute_result"
    }
   ],
   "source": [
    "df['target'].value_counts()"
   ]
  },
  {
   "cell_type": "code",
   "execution_count": null,
   "metadata": {
    "id": "2hyQB7gCRWmt"
   },
   "outputs": [],
   "source": [
    "y = df['target'] # ----> caracteristicas (1 = art / 0 = pfps / 2 = others)\n",
    "X = df.drop(['target', 'category'],axis = 1)"
   ]
  },
  {
   "cell_type": "code",
   "execution_count": null,
   "metadata": {
    "colab": {
     "base_uri": "https://localhost:8080/"
    },
    "id": "8YRJhX1ZejuL",
    "outputId": "92d352de-44e9-47c8-9b30-3fbdc2a55e65"
   },
   "outputs": [
    {
     "name": "stdout",
     "output_type": "stream",
     "text": [
      "X_train dataset:  (30611, 10)\n",
      "y_train dataset:  (30611,)\n",
      "X_test dataset:  (10204, 10)\n",
      "y_test dataset:  (10204,)\n"
     ]
    }
   ],
   "source": [
    "y = df['target'] # ----> caracteristicas (1 = art / 0 = não art / 2 = others)\n",
    "X = df.drop(['target', 'category'],axis = 1)\n",
    "\n",
    "X_train, X_test, y_train, y_test = train_test_split(X, y, train_size=0.75, random_state=42)\n",
    "\n",
    "print(\"X_train dataset: \", X_train.shape)\n",
    "print(\"y_train dataset: \", y_train.shape)\n",
    "print(\"X_test dataset: \", X_test.shape)\n",
    "print(\"y_test dataset: \", y_test.shape)"
   ]
  },
  {
   "cell_type": "code",
   "execution_count": null,
   "metadata": {
    "colab": {
     "base_uri": "https://localhost:8080/",
     "height": 92
    },
    "id": "ZafBA62VRWuf",
    "outputId": "a75d7964-2e65-4493-c34d-644eb9e46926"
   },
   "outputs": [
    {
     "data": {
      "text/html": [
       "<style>#sk-container-id-1 {color: black;background-color: white;}#sk-container-id-1 pre{padding: 0;}#sk-container-id-1 div.sk-toggleable {background-color: white;}#sk-container-id-1 label.sk-toggleable__label {cursor: pointer;display: block;width: 100%;margin-bottom: 0;padding: 0.3em;box-sizing: border-box;text-align: center;}#sk-container-id-1 label.sk-toggleable__label-arrow:before {content: \"▸\";float: left;margin-right: 0.25em;color: #696969;}#sk-container-id-1 label.sk-toggleable__label-arrow:hover:before {color: black;}#sk-container-id-1 div.sk-estimator:hover label.sk-toggleable__label-arrow:before {color: black;}#sk-container-id-1 div.sk-toggleable__content {max-height: 0;max-width: 0;overflow: hidden;text-align: left;background-color: #f0f8ff;}#sk-container-id-1 div.sk-toggleable__content pre {margin: 0.2em;color: black;border-radius: 0.25em;background-color: #f0f8ff;}#sk-container-id-1 input.sk-toggleable__control:checked~div.sk-toggleable__content {max-height: 200px;max-width: 100%;overflow: auto;}#sk-container-id-1 input.sk-toggleable__control:checked~label.sk-toggleable__label-arrow:before {content: \"▾\";}#sk-container-id-1 div.sk-estimator input.sk-toggleable__control:checked~label.sk-toggleable__label {background-color: #d4ebff;}#sk-container-id-1 div.sk-label input.sk-toggleable__control:checked~label.sk-toggleable__label {background-color: #d4ebff;}#sk-container-id-1 input.sk-hidden--visually {border: 0;clip: rect(1px 1px 1px 1px);clip: rect(1px, 1px, 1px, 1px);height: 1px;margin: -1px;overflow: hidden;padding: 0;position: absolute;width: 1px;}#sk-container-id-1 div.sk-estimator {font-family: monospace;background-color: #f0f8ff;border: 1px dotted black;border-radius: 0.25em;box-sizing: border-box;margin-bottom: 0.5em;}#sk-container-id-1 div.sk-estimator:hover {background-color: #d4ebff;}#sk-container-id-1 div.sk-parallel-item::after {content: \"\";width: 100%;border-bottom: 1px solid gray;flex-grow: 1;}#sk-container-id-1 div.sk-label:hover label.sk-toggleable__label {background-color: #d4ebff;}#sk-container-id-1 div.sk-serial::before {content: \"\";position: absolute;border-left: 1px solid gray;box-sizing: border-box;top: 0;bottom: 0;left: 50%;z-index: 0;}#sk-container-id-1 div.sk-serial {display: flex;flex-direction: column;align-items: center;background-color: white;padding-right: 0.2em;padding-left: 0.2em;position: relative;}#sk-container-id-1 div.sk-item {position: relative;z-index: 1;}#sk-container-id-1 div.sk-parallel {display: flex;align-items: stretch;justify-content: center;background-color: white;position: relative;}#sk-container-id-1 div.sk-item::before, #sk-container-id-1 div.sk-parallel-item::before {content: \"\";position: absolute;border-left: 1px solid gray;box-sizing: border-box;top: 0;bottom: 0;left: 50%;z-index: -1;}#sk-container-id-1 div.sk-parallel-item {display: flex;flex-direction: column;z-index: 1;position: relative;background-color: white;}#sk-container-id-1 div.sk-parallel-item:first-child::after {align-self: flex-end;width: 50%;}#sk-container-id-1 div.sk-parallel-item:last-child::after {align-self: flex-start;width: 50%;}#sk-container-id-1 div.sk-parallel-item:only-child::after {width: 0;}#sk-container-id-1 div.sk-dashed-wrapped {border: 1px dashed gray;margin: 0 0.4em 0.5em 0.4em;box-sizing: border-box;padding-bottom: 0.4em;background-color: white;}#sk-container-id-1 div.sk-label label {font-family: monospace;font-weight: bold;display: inline-block;line-height: 1.2em;}#sk-container-id-1 div.sk-label-container {text-align: center;}#sk-container-id-1 div.sk-container {/* jupyter's `normalize.less` sets `[hidden] { display: none; }` but bootstrap.min.css set `[hidden] { display: none !important; }` so we also need the `!important` here to be able to override the default hidden behavior on the sphinx rendered scikit-learn.org. See: https://github.com/scikit-learn/scikit-learn/issues/21755 */display: inline-block !important;position: relative;}#sk-container-id-1 div.sk-text-repr-fallback {display: none;}</style><div id=\"sk-container-id-1\" class=\"sk-top-container\"><div class=\"sk-text-repr-fallback\"><pre>RandomForestClassifier(min_samples_leaf=15, min_samples_split=20,\n",
       "                       n_estimators=1000)</pre><b>In a Jupyter environment, please rerun this cell to show the HTML representation or trust the notebook. <br />On GitHub, the HTML representation is unable to render, please try loading this page with nbviewer.org.</b></div><div class=\"sk-container\" hidden><div class=\"sk-item\"><div class=\"sk-estimator sk-toggleable\"><input class=\"sk-toggleable__control sk-hidden--visually\" id=\"sk-estimator-id-1\" type=\"checkbox\" checked><label for=\"sk-estimator-id-1\" class=\"sk-toggleable__label sk-toggleable__label-arrow\">RandomForestClassifier</label><div class=\"sk-toggleable__content\"><pre>RandomForestClassifier(min_samples_leaf=15, min_samples_split=20,\n",
       "                       n_estimators=1000)</pre></div></div></div></div></div>"
      ],
      "text/plain": [
       "RandomForestClassifier(min_samples_leaf=15, min_samples_split=20,\n",
       "                       n_estimators=1000)"
      ]
     },
     "execution_count": 8,
     "metadata": {},
     "output_type": "execute_result"
    }
   ],
   "source": [
    "model = RandomForestClassifier(n_estimators=1000, min_samples_split=20, min_samples_leaf=15)\n",
    "model.fit(X_train, y_train)"
   ]
  },
  {
   "cell_type": "code",
   "execution_count": null,
   "metadata": {
    "colab": {
     "base_uri": "https://localhost:8080/"
    },
    "id": "ZCmMYKBjRs2f",
    "outputId": "930a2927-2fbb-428e-d594-36cf0bbac53e"
   },
   "outputs": [
    {
     "name": "stdout",
     "output_type": "stream",
     "text": [
      "Acurácia: 0.617796942375539\n",
      "Precisão: 0.6114085635591411\n",
      "Revocação: 0.617796942375539\n",
      "F1-Score: 0.5810387318780905\n"
     ]
    }
   ],
   "source": [
    "# Fazer previsões no conjunto de teste usando o melhor modelo\n",
    "y_pred = model.predict(X_test)\n",
    "\n",
    "# Calcular métricas de avaliação\n",
    "acuracia = accuracy_score(y_test, y_pred)\n",
    "precisao = precision_score(y_test, y_pred, average='weighted')  # Precisão ponderada por classe\n",
    "revocacao = recall_score(y_test, y_pred, average='weighted')  # Revocação ponderada por classe\n",
    "f1 = f1_score(y_test, y_pred, average='weighted')  # F1-Score ponderado por classe\n",
    "\n",
    "# Exibir as métricas de avaliação\n",
    "print(\"Acurácia:\", acuracia)\n",
    "print(\"Precisão:\", precisao)\n",
    "print(\"Revocação:\", revocacao)\n",
    "print(\"F1-Score:\", f1)"
   ]
  },
  {
   "cell_type": "code",
   "execution_count": null,
   "metadata": {
    "colab": {
     "base_uri": "https://localhost:8080/"
    },
    "id": "wSdAQIL6RtHk",
    "outputId": "912419b5-5ac7-4b4f-d76f-fbd624c71e8b"
   },
   "outputs": [
    {
     "name": "stdout",
     "output_type": "stream",
     "text": [
      "              precision    recall  f1-score   support\n",
      "\n",
      "           0       0.66      0.59      0.62      3387\n",
      "           1       0.61      0.84      0.70      4839\n",
      "           2       0.55      0.14      0.22      1978\n",
      "\n",
      "    accuracy                           0.62     10204\n",
      "   macro avg       0.60      0.52      0.51     10204\n",
      "weighted avg       0.61      0.62      0.58     10204\n",
      "\n"
     ]
    }
   ],
   "source": [
    "report = classification_report(y_test, y_pred)\n",
    "\n",
    "# Exibir o relatório de classificação\n",
    "print(report)"
   ]
  },
  {
   "cell_type": "code",
   "execution_count": null,
   "metadata": {
    "id": "EQidn-ETlJex"
   },
   "outputs": [],
   "source": []
  },
  {
   "cell_type": "code",
   "execution_count": null,
   "metadata": {
    "id": "x6c6Q8I4RtQZ"
   },
   "outputs": [],
   "source": []
  },
  {
   "cell_type": "code",
   "execution_count": null,
   "metadata": {
    "id": "xTTtSYDfRtZs"
   },
   "outputs": [],
   "source": []
  }
 ],
 "metadata": {
  "colab": {
   "provenance": []
  },
  "kernelspec": {
   "display_name": "Python 3",
   "name": "python3"
  },
  "language_info": {
   "name": "python"
  }
 },
 "nbformat": 4,
 "nbformat_minor": 0
}
